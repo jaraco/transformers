{
 "cells": [
  {
   "cell_type": "code",
   "execution_count": 14,
   "id": "fb745b4a",
   "metadata": {},
   "outputs": [],
   "source": [
    "from typing import Optional\n",
    "class backports:\n",
    "    transforming_annotations = lambda func: func"
   ]
  },
  {
   "cell_type": "markdown",
   "id": "07713fb6",
   "metadata": {},
   "source": [
    "# Problem\n",
    "\n",
    "Many functions exhibit the following pattern."
   ]
  },
  {
   "cell_type": "code",
   "execution_count": 4,
   "id": "70910625",
   "metadata": {},
   "outputs": [],
   "source": [
    "def do_something(a: Optional[float] = None, b: float = 0) -> str:\n",
    "    if a is None:\n",
    "        a = 0\n",
    "\n",
    "    # do \"something\" with `a` and `b`, assuming `a` is an integer, producing result\n",
    "    result = (a ** 2) + b\n",
    "    \n",
    "    return str(result)"
   ]
  },
  {
   "cell_type": "markdown",
   "id": "5ca0bdb5",
   "metadata": {},
   "source": [
    "This approach presents several problems or areas for improvement:\n",
    "\n",
    "- The initial clause of the function masks the type transformation, and mutates the variable value.\n",
    "- Concerns that could be separated (and re-used) aren't readily separated."
   ]
  },
  {
   "cell_type": "markdown",
   "id": "833e07ba",
   "metadata": {},
   "source": [
    "## Variable masking\n",
    "\n",
    "By selectively re-assigning the value of `a`, the function signature needs to support the more complex signature, adding complexity and cognitive burden. If the transformation is more than a simple two-line transform of a single parameter, this burden is even greater. Moreover, this approach fails to protect the programmer or the static analyzer from the possibility of interacting effects."
   ]
  },
  {
   "cell_type": "code",
   "execution_count": 5,
   "id": "5b3371b3",
   "metadata": {},
   "outputs": [],
   "source": [
    "def do_something(a, b):\n",
    "    if a is None:\n",
    "        a = 0 if b else 1  # a and b are entangled in this branch of the code"
   ]
  },
  {
   "cell_type": "markdown",
   "id": "65d14820",
   "metadata": {},
   "source": [
    "Conversely, if the transformation of `a` could be isolated from the body of the function, the complexity and cognitive burden could be isolated to that value."
   ]
  },
  {
   "cell_type": "code",
   "execution_count": 6,
   "id": "8ae5dc8c",
   "metadata": {},
   "outputs": [],
   "source": [
    "def none_is_zero(val: Optional[float]):\n",
    "    return val if val is not None else 0\n",
    "\n",
    "def do_something(a, b):\n",
    "    a = none_is_zero(a)  # no chance of entagling b"
   ]
  },
  {
   "cell_type": "markdown",
   "id": "197f4848",
   "metadata": {},
   "source": [
    "However, this approach still requires `a` to be re-assigned and introduces potential for logic before and after the transformation, not clearly communicating that this transformation could always be done at the function's invocation."
   ]
  },
  {
   "cell_type": "markdown",
   "id": "3d7a38b9",
   "metadata": {},
   "source": [
    "## Separation of Concerns\n",
    "\n",
    "The `do_something` function is addressing several concerns:\n",
    "\n",
    "- Accepting two types for `a` but collapsing them to a `float`.\n",
    "- Performing the essential part of the function.\n",
    "- Transforming the result into a particular output type.\n",
    "\n",
    "This pattern is common and appears even in CPython code ([regex _compile flags](https://github.com/python/cpython/blob/af50c84643ce21cfbdfdabbdfae6bd5e1368c542/Lib/re.py#L282-L283)).\n",
    "\n",
    "```python\n",
    "def _compile(pattern, flags: [int, RegexFlag]):\n",
    "    # internal: compile pattern\n",
    "    if isinstance(flags, RegexFlag):\n",
    "        flags = flags.value\n",
    "    ...\n",
    "```"
   ]
  },
  {
   "cell_type": "markdown",
   "id": "3796723c",
   "metadata": {},
   "source": [
    "In fact, one might be tempted to separate essential concerns from the other two transformations."
   ]
  },
  {
   "cell_type": "code",
   "execution_count": 10,
   "id": "648bf461",
   "metadata": {},
   "outputs": [],
   "source": [
    "def make_str(val: float) -> str:\n",
    "    return str(val)\n",
    "\n",
    "\n",
    "def _do_something_essential(a: float, b: float):\n",
    "    \"\"\"Do 'something' with `a' and `b`\"\"\"\n",
    "    return (a ** 2) + b\n",
    "\n",
    "\n",
    "def do_something(a: Optional[float] = None, b: float = 0) -> str:\n",
    "    if a is None:\n",
    "        a = 0\n",
    "    \n",
    "    return make_str(do_something(a, b))"
   ]
  },
  {
   "cell_type": "markdown",
   "id": "6c2d7902",
   "metadata": {},
   "source": [
    "Note the elegance and simplicity of `_do_something_essential`.\n",
    "\n",
    "But already, this approach is getting a little unwieldy and still doesn't help much if one wishes to re-use the parameter transform (`a is None -> a = 0`) or the return value transform."
   ]
  },
  {
   "cell_type": "markdown",
   "id": "2357c6a3",
   "metadata": {},
   "source": [
    "# Proposed\n",
    "\n",
    "Inspired by the simplicity and power of decorators, what if Python could designate transformation functions to be applied to parameters and return values. Such an approach promises to address the concerns listed above. In fact, such an approach could conceivably be implemented with a decorator today."
   ]
  },
  {
   "cell_type": "code",
   "execution_count": 11,
   "id": "e5dcf84e",
   "metadata": {},
   "outputs": [],
   "source": [
    "def transform_result(xform):\n",
    "    # stubbed\n",
    "    return lambda func: func\n",
    "\n",
    "def transform_param(param, xform):\n",
    "    # stubbed\n",
    "    return lambda func: func\n",
    "\n",
    "@transform_result(make_str)\n",
    "@transform_param('a', none_is_zero)\n",
    "def do_something(a: float, b: float):\n",
    "    \"\"\"Do 'something' with `a' and `b`\"\"\"\n",
    "    return (a ** 2) + b"
   ]
  },
  {
   "cell_type": "markdown",
   "id": "21a6b42d",
   "metadata": {},
   "source": [
    "This approach, however, is inelegant in that the parameter name has to be repeated and the type annotations may not recognize the effect of the transform. What if the function's annotations could be used:"
   ]
  },
  {
   "cell_type": "code",
   "execution_count": null,
   "id": "625f6ab3",
   "metadata": {},
   "outputs": [],
   "source": [
    "def do_something(a: none_is_zero, b: float) -> make_str:\n",
    "    \"\"\"Do 'something' with `a' and `b`\"\"\"\n",
    "    return (a ** 2) + b"
   ]
  },
  {
   "cell_type": "markdown",
   "id": "29539be4",
   "metadata": {},
   "source": [
    "The annotations here are arbitrary callables that themselves have type annotations and are recognized as transforming functions.\n",
    "\n",
    "## Advantages\n",
    "\n",
    "This approach has a number of benefits, addressing the problems above:\n",
    "\n",
    "- Elegant, simple declaration of intended behavior.\n",
    "- Clear separation of concerns.\n",
    "- Avoids re-writing variables in the scope.\n",
    "- Easy re-use of transformations.\n",
    "- Explicit type transformation.\n",
    "\n",
    "## Challenges\n"
   ]
  },
  {
   "cell_type": "markdown",
   "id": "f3053ab2",
   "metadata": {},
   "source": [
    "### Compatibility\n",
    "\n",
    "Older Python versions wouldn't have this functionality, but a compatibility shim could likely be implemented that would provide the functionality for older Pythons."
   ]
  },
  {
   "cell_type": "code",
   "execution_count": 15,
   "id": "770e0e8e",
   "metadata": {},
   "outputs": [],
   "source": [
    "@backports.transforming_annotations\n",
    "def do_something(a: none_is_zero, b: float) -> make_str:\n",
    "    \"\"\"Do 'something' with `a' and `b`\"\"\"\n",
    "    return (a ** 2) + b"
   ]
  },
  {
   "cell_type": "markdown",
   "id": "c70717bb",
   "metadata": {},
   "source": [
    "### Ambiguity between types and transforms\n",
    "\n",
    "Perhaps the biggest challenge is that `int` is both a simple type annotation and a callable that transforms certain types to another type. One might be tempted to use or even expect to be able to use `int` to transform an incoming `str` to an integer. Or similarly for `str` to do the reverse."
   ]
  },
  {
   "cell_type": "code",
   "execution_count": 16,
   "id": "3e3bbbef",
   "metadata": {},
   "outputs": [],
   "source": [
    "def do_something(a: none_is_zero, b: float) -> str:  # do you mean make it a str or expect a str?\n",
    "    return (a ** 2) + b"
   ]
  },
  {
   "cell_type": "markdown",
   "id": "6689ddcb",
   "metadata": {},
   "source": [
    "I can imagine a few approaches to address this concern.\n",
    "\n",
    "- Require that transforming functions be explicitly created, such as with `make_str` above.\n",
    "- Provide a wrapping helper that specifies that a type is to be used as a transform (`-> transform(str)`).\n",
    "- Provide a wrapping helper or explicit types for non-transforming type declarations (e.g. `Int` or `strict(int)`).\n",
    "\n",
    "This last option probably has the most compatibility concerns, but would allow constructors to also double as transformers."
   ]
  },
  {
   "cell_type": "markdown",
   "id": "4b4c4beb",
   "metadata": {},
   "source": [
    "# Questions\n",
    "\n",
    "- Has this approach been considered previously (where)?\n",
    "- Are there other challenges I haven't recognized?\n",
    "- Other feedback or questions?"
   ]
  }
 ],
 "metadata": {
  "kernelspec": {
   "display_name": "Python 3",
   "language": "python",
   "name": "python3"
  },
  "language_info": {
   "codemirror_mode": {
    "name": "ipython",
    "version": 3
   },
   "file_extension": ".py",
   "mimetype": "text/x-python",
   "name": "python",
   "nbconvert_exporter": "python",
   "pygments_lexer": "ipython3",
   "version": "3.9.2"
  }
 },
 "nbformat": 4,
 "nbformat_minor": 5
}
